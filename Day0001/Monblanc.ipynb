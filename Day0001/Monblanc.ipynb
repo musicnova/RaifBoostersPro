{
 "cells": [
  {
   "cell_type": "code",
   "execution_count": 9,
   "metadata": {},
   "outputs": [
    {
     "name": "stdout",
     "output_type": "stream",
     "text": [
      "ok\n"
     ]
    }
   ],
   "source": [
    "from openpyxl import Workbook\n",
    "wb = Workbook()\n",
    "\n",
    "ws = wb.active\n",
    "\n",
    "ws1 = wb.create_sheet(\"Mysheet\")\n",
    "ws2 = wb.create_sheet(\"Mysheet\", 0)\n",
    "\n",
    "ws.title = \"New Title\"\n",
    "wb.save('monblanc.xlsx')\n",
    "\n",
    "print(\"ok\")"
   ]
  },
  {
   "cell_type": "code",
   "execution_count": 10,
   "metadata": {},
   "outputs": [
    {
     "name": "stdout",
     "output_type": "stream",
     "text": [
      "ok\n"
     ]
    }
   ],
   "source": [
    "from openpyxl import load_workbook\n",
    "\n",
    "wb = load_workbook('monblanc.xlsx')\n",
    "wb.template = True\n",
    "wb.save('monblanc_template.xltx')\n",
    "\n",
    "print(\"ok\")"
   ]
  },
  {
   "cell_type": "code",
   "execution_count": 11,
   "metadata": {},
   "outputs": [
    {
     "name": "stdout",
     "output_type": "stream",
     "text": [
      "AA\n"
     ]
    }
   ],
   "source": [
    "from openpyxl import Workbook\n",
    "from openpyxl.compat import range\n",
    "from openpyxl.utils import get_column_letter\n",
    "\n",
    "wb = Workbook()\n",
    "\n",
    "dest_filename = 'empty_book.xlsx'\n",
    "\n",
    "ws1 = wb.active\n",
    "ws1.title = \"range names\"\n",
    "for row in range(1, 40):\n",
    "    ws1.append(range(600))\n",
    "\n",
    "ws2 = wb.create_sheet(title=\"Pi\")\n",
    "\n",
    "ws2['F5'] = 3.14\n",
    "\n",
    "ws3 = wb.create_sheet(title=\"Data\")\n",
    "for row in range(10, 20):\n",
    "    for col in range(27, 54):\n",
    "        _ = ws3.cell(column=col, row=row, value=\"{0}\".format(get_column_letter(col)))\n",
    "print(ws3['AA10'].value)\n",
    "\n",
    "wb.save(filename = dest_filename)"
   ]
  },
  {
   "cell_type": "code",
   "execution_count": 12,
   "metadata": {},
   "outputs": [
    {
     "name": "stdout",
     "output_type": "stream",
     "text": [
      "yyyy-mm-dd h:mm:ss\n",
      "0.031400000000000004\n",
      "0%\n"
     ]
    }
   ],
   "source": [
    "import datetime\n",
    "from openpyxl import Workbook\n",
    "wb = Workbook()\n",
    "ws = wb.active\n",
    "# set date using a Python datetime\n",
    "ws['A1'] = datetime.datetime(2010, 7, 21)\n",
    "print(ws['A1'].number_format)\n",
    "\n",
    "# You can enable type inference on a case-by-case basis\n",
    "wb.guess_types = True\n",
    "# set percentage using a string followed by the percent sign\n",
    "ws['B1'] = '3.14%'\n",
    "wb.guess_types = False\n",
    "print(ws['B1'].value)\n",
    "\n",
    "print(ws['B1'].number_format)\n"
   ]
  },
  {
   "cell_type": "code",
   "execution_count": 13,
   "metadata": {},
   "outputs": [],
   "source": [
    "from openpyxl import Workbook\n",
    "wb = Workbook()\n",
    "ws = wb.active\n",
    "# add a simple formula\n",
    "ws[\"A1\"] = \"=SUM(1, 1)\"\n",
    "wb.save(\"formula.xlsx\")"
   ]
  },
  {
   "cell_type": "code",
   "execution_count": 14,
   "metadata": {},
   "outputs": [
    {
     "data": {
      "text/plain": [
       "True"
      ]
     },
     "execution_count": 14,
     "metadata": {},
     "output_type": "execute_result"
    }
   ],
   "source": [
    "from openpyxl.utils import FORMULAE\n",
    "\n",
    "\"HEX2DEC\" in FORMULAE"
   ]
  },
  {
   "cell_type": "code",
   "execution_count": 15,
   "metadata": {},
   "outputs": [
    {
     "name": "stdout",
     "output_type": "stream",
     "text": [
      "ok\n"
     ]
    }
   ],
   "source": [
    "import openpyxl\n",
    "wb = openpyxl.Workbook()\n",
    "ws = wb.create_sheet()\n",
    "ws.column_dimensions.group('A','D', hidden=True)\n",
    "wb.save('group.xlsx')\n",
    "print(\"ok\")"
   ]
  },
  {
   "cell_type": "code",
   "execution_count": 16,
   "metadata": {},
   "outputs": [
    {
     "name": "stdout",
     "output_type": "stream",
     "text": [
      "ok\n"
     ]
    }
   ],
   "source": [
    "import pandas as pd\n",
    "\n",
    "d = {'col1': [1, 2], 'col2': [3, 4]}\n",
    "df = pd.DataFrame(data=d)\n",
    "\n",
    "from openpyxl.utils.dataframe import dataframe_to_rows    \n",
    "wb = Workbook()\n",
    "ws = wb.active\n",
    "\n",
    "for r in dataframe_to_rows(df, index=True, header=True):\n",
    "    ws.append(r)\n",
    "\n",
    "for cell in ws['A'] + ws[1]:\n",
    "    cell.style = 'Pandas'\n",
    "\n",
    "wb.save(\"pandas_openpyxl.xlsx\")\n",
    "\n",
    "print(\"ok\")"
   ]
  }
 ],
 "metadata": {
  "anaconda-cloud": {},
  "kernelspec": {
   "display_name": "Python [default]",
   "language": "python",
   "name": "python3"
  },
  "language_info": {
   "codemirror_mode": {
    "name": "ipython",
    "version": 3
   },
   "file_extension": ".py",
   "mimetype": "text/x-python",
   "name": "python",
   "nbconvert_exporter": "python",
   "pygments_lexer": "ipython3",
   "version": "3.5.4"
  }
 },
 "nbformat": 4,
 "nbformat_minor": 2
}
